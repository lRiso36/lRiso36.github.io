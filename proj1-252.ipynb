{
 "cells": [
  {
   "cell_type": "markdown",
   "id": "7e7cfb24",
   "metadata": {},
   "source": [
    "----\n",
    "\n",
    "## Problem Set 1: Boolean Logic\n",
    "\n",
    "_csc427, semester 252\n",
    "<br>\n",
    "university of miami\n",
    "<br>\n",
    "date: 15 January 2025_\n",
    "\n",
    "copyright (c) 2025 burton rosenberg. All rights reserved.\n",
    "\n",
    "----\n",
    "\n",
    "__Honor Code Signature Required:__   I am have read the University of Miami [Honor Code](https://doso.studentaffairs.miami.edu/_assets/pdf/honor-council/undergrad_honorcode.pdf) and have pledged to accept its terms. \n",
    "\n",
    "My signature here reaffirms that pledge. Please replace the empty string below with your name. &#10000;  &#9759;"
   ]
  },
  {
   "cell_type": "code",
   "execution_count": 2,
   "id": "434d1a69",
   "metadata": {},
   "outputs": [],
   "source": [
    "sign_the_honor_code_with_your_name_in_the_following_string = \"Lena Deriso\"\n",
    "\n",
    "def assert_honor_code():\n",
    "    assert len(sign_the_honor_code_with_your_name_in_the_following_string)>0, \"Honor Code not signed.\"\n",
    "\n",
    "summary = {}"
   ]
  },
  {
   "cell_type": "markdown",
   "id": "c0a00a8d",
   "metadata": {},
   "source": [
    "### Computation as Boolean Logic\n",
    "\n",
    "Present day computers work by Boolean Algebra. Boolean Algebra is a system of arithmetic with two values and three operations: values of true and false and operations of logical and, logical or and logical not.\n",
    "\n",
    "Since the course is about what computations are possible, it is about what are the full consquences of Boolean Algebra. This project comprises exercises to refamiliarize you with Boolen Algebra.\n",
    "\n",
    "The following code block includes some useful functions you can use to test your answers.\n",
    "\n"
   ]
  },
  {
   "cell_type": "code",
   "execution_count": 4,
   "id": "aa617ec6",
   "metadata": {},
   "outputs": [
    {
     "name": "stdout",
     "output_type": "stream",
     "text": [
      "[True, False, False, False]\n",
      "[True, False, False, False]\n",
      "[True, False]\n",
      "[True, False]\n",
      "*** passes the self test ***\n"
     ]
    }
   ],
   "source": [
    "class ProjOneTest:\n",
    "    \n",
    "    def __init__(self):\n",
    "        pass\n",
    "    \n",
    "    def eval_all(self, f_n):\n",
    "        (n,f) = f_n\n",
    "        ans = [ None ] * 2**n\n",
    "        for i in range (2**n):\n",
    "            vals = [True]*n\n",
    "            ii = i \n",
    "            for j in range(n):\n",
    "                vals[j] = ii&1==0\n",
    "                ii = ii//2\n",
    "            \n",
    "            assert (n>0 and n<5), 'function arity out of bounds'\n",
    "            if n==1:\n",
    "                ans[i] = f(vals[0])\n",
    "            if n==2:\n",
    "                ans[i] = f(vals[0],vals[1])\n",
    "            if n==3:\n",
    "                ans[i] = f(vals[0],vals[1],vals[2])\n",
    "            if n==4:\n",
    "                ans[i] = f(vals[0],vals[1],vals[2],vals[3])\n",
    "\n",
    "        return ans\n",
    "    \n",
    "    def check_all(self, fn1, fn2, verbose=False):\n",
    "        (n1, f1) = fn1\n",
    "        (n2, f2) = fn2\n",
    "        assert n1==n2, 'functions not the same arity'\n",
    "        if verbose:\n",
    "            print(self.eval_all(fn1))\n",
    "            print(self.eval_all(fn2))\n",
    "        return self.eval_all(fn1)==self.eval_all(fn2)\n",
    "\n",
    "def test():\n",
    "    p1t = ProjOneTest()\n",
    "    \n",
    "    # is AND commutative?\n",
    "    fn1 = (2, lambda x,y: x and y)\n",
    "    fn2 = (2, lambda x,y: y and x)\n",
    "    assert p1t.check_all(fn1,fn2,verbose=True)\n",
    "    \n",
    "    # is OR idempotent\n",
    "    fn1 = (1, lambda x: x or x)\n",
    "    fn2 = (1, lambda x: x)\n",
    "    assert p1t.check_all(fn1,fn2,verbose=True)\n",
    "    \n",
    "    print('*** passes the self test ***')\n",
    "\n",
    "self_test = True  \n",
    "#self_test = False  \n",
    "if self_test:\n",
    "    test()\n",
    "\n",
    "def quick_test(fcts,i,j, verbose=False):\n",
    "    if i==j:\n",
    "        return False\n",
    "    p1t = ProjOneTest()\n",
    "    return p1t.check_all(fcts[i],fcts[j],verbose)\n",
    "\n"
   ]
  },
  {
   "cell_type": "markdown",
   "id": "492bfc8d",
   "metadata": {},
   "source": [
    "### Exercises A: Multiple choice\n",
    "\n",
    "In this section there is a menu of boolean functions,`fcts`, and you will pair the functions that demonstrates the logical forms,\n",
    "\n",
    "- pairs of formulas that are _contradictions_\n",
    "- pairs of formulas that are _tautologies_\n",
    "- pairs of formulas that demonstrate the _distributive law_\n",
    "- pairs of formulas that demonstrate _De Morgan's law_\n",
    "- pairs of formulas that demonstrate the _absorption law_\n",
    "\n",
    "Note that a correct solution will use each of the indices 0 through 15 exactly once.\n",
    "\n",
    "__References:__\n",
    "\n",
    "- [python docs lambda expression](https://docs.python.org/3/reference/expressions.html#grammar-token-python-grammar-lambda_expr)\n",
    "- [pythontips.com lambda examples](https://book.pythontips.com/en/latest/lambdas.html)\n",
    "- [python docs tuples](https://docs.python.org/3/tutorial/datastructures.html#tuples-and-sequences)"
   ]
  },
  {
   "cell_type": "code",
   "execution_count": 6,
   "id": "d72e73e4",
   "metadata": {},
   "outputs": [],
   "source": [
    "\n",
    "fcts = [\n",
    "    # simple constant and identity functions\n",
    "    #0\n",
    "    (1, lambda x: True), \n",
    "    (1, lambda x: False), \n",
    "    (2, lambda x, y: x), \n",
    "    (2, lambda x, y: y), \n",
    "\n",
    "    # the rest of the functions to choose from\n",
    "    #4\n",
    "    (2, lambda x, y: (not x) or (not y)), \n",
    "    (2, lambda x, y: (not x) and (not y)), \n",
    "    (1, lambda x: x or not x), \n",
    "    (3, lambda x, y, z: x or (y and z)),\n",
    "   \n",
    "    #8\n",
    "    (1, lambda x: x and not x), \n",
    "    (2, lambda x, y: not (x and y)), \n",
    "    (3, lambda x, y, z: x and (y or z)), \n",
    "    (2, lambda x, y: x and (x or y)), \n",
    "    \n",
    "    #12\n",
    "    (2, lambda x, y: y or (y and x)), \n",
    "    (2, lambda x, y: not (x or y)), \n",
    "    (3, lambda x, y, z: (x or y) and (x or z)),\n",
    "    (3, lambda x, y, z: (x and y) or (x and z)), \n",
    "]\n"
   ]
  },
  {
   "cell_type": "markdown",
   "id": "ed61560f",
   "metadata": {},
   "source": [
    "#### 1. Distributive law.\n",
    "\n",
    "Read about the distributive law for boolean algebra. Describe in the box below what is the distributive law. \n"
   ]
  },
  {
   "cell_type": "markdown",
   "id": "ec0fef51",
   "metadata": {},
   "source": [
    "_*** This law permits the multiplying or factoring out of an expression. Law a -> A + (B.C) = (A + B).(A + C) Law o -> A(B + C) = A.B + A.C"
   ]
  },
  {
   "cell_type": "markdown",
   "id": "a02ccdb4",
   "metadata": {},
   "source": [
    "Find the pairs of functions (by their index) which are connected by the distributive laws. There are two pairs, and I have done the first of the pairs for you, as an illustration of what is to be done. Find the second law and replace `(0,0)` with the solution indices."
   ]
  },
  {
   "cell_type": "code",
   "execution_count": 10,
   "id": "3c5ed3c2",
   "metadata": {},
   "outputs": [
    {
     "name": "stdout",
     "output_type": "stream",
     "text": [
      "*** distribution_law_a matches\n",
      "*** distribution_law_o matches\n"
     ]
    }
   ],
   "source": [
    "distribution_law_a = (10,15)\n",
    "distribution_law_o = (7,14) \n",
    " \n",
    "if quick_test(fcts,distribution_law_a[0],distribution_law_a[1], verbose=False):\n",
    "    print('*** distribution_law_a matches')\n",
    "      \n",
    "if quick_test(fcts,distribution_law_o[0],distribution_law_o[1], verbose=False):\n",
    "    print('*** distribution_law_o matches')\n"
   ]
  },
  {
   "cell_type": "markdown",
   "id": "d036b5c9",
   "metadata": {},
   "source": [
    "#### 2. De Morgan's law.\n",
    "\n",
    "Read about De Morgan's law for boolean algebra. Describe in the box below what is De Morgan's law.\n"
   ]
  },
  {
   "cell_type": "markdown",
   "id": "260fefa8",
   "metadata": {},
   "source": [
    "_*** o law -> not (A or B) = (not A) and (not B)\n",
    "a law -> not (A and B) = (not A) or (not B)"
   ]
  },
  {
   "cell_type": "markdown",
   "id": "d740bd72",
   "metadata": {},
   "source": [
    "Find the pairs of functions (by their index) which are connected by De Morgan's law. There are two pairs."
   ]
  },
  {
   "cell_type": "code",
   "execution_count": 14,
   "id": "d3ca2a4b",
   "metadata": {},
   "outputs": [
    {
     "name": "stdout",
     "output_type": "stream",
     "text": [
      "*** demorgans_law_a matches\n",
      "*** demorgans_law_o matches\n"
     ]
    }
   ],
   "source": [
    "demorgans_law_a = (4,9)\n",
    "demorgans_law_o = (5,13)\n",
    "\n",
    "if quick_test(fcts,demorgans_law_a[0],demorgans_law_a[1], verbose=False):\n",
    "    print('*** demorgans_law_a matches')\n",
    "      \n",
    "if quick_test(fcts,demorgans_law_o[0],demorgans_law_o[1], verbose=False):\n",
    "    print('*** demorgans_law_o matches')\n"
   ]
  },
  {
   "cell_type": "markdown",
   "id": "4c284378",
   "metadata": {},
   "source": [
    "#### 3. Contradictions and Tautologies\n",
    "\n",
    "Read about Contradictions and Tautologies for boolean algebra. Describe in the box below what are Contradictions and Tautologies"
   ]
  },
  {
   "cell_type": "markdown",
   "id": "980d7d4a",
   "metadata": {},
   "source": [
    "_*** Contradiction is a statement thats always false. Tautologies are statements that are always true."
   ]
  },
  {
   "cell_type": "markdown",
   "id": "16361f44",
   "metadata": {},
   "source": [
    "Find a pair of functions (distinct indicies) which are both contractions, and find a pair of functions (distinct indicies) which are both tautologies"
   ]
  },
  {
   "cell_type": "code",
   "execution_count": 18,
   "id": "b2f15cf3",
   "metadata": {},
   "outputs": [
    {
     "name": "stdout",
     "output_type": "stream",
     "text": [
      "*** contradiction_pair matches\n",
      "*** tautology_pair matches\n"
     ]
    }
   ],
   "source": [
    "contradiction_pair = (1,8)\n",
    "tautology_pair = (0,6)\n",
    "\n",
    "if quick_test(fcts,contradiction_pair[0],contradiction_pair[1], verbose=False):\n",
    "    print('*** contradiction_pair matches')\n",
    "      \n",
    "if quick_test(fcts,tautology_pair[0],tautology_pair[1], verbose=False):\n",
    "    print('*** tautology_pair matches')\n"
   ]
  },
  {
   "cell_type": "markdown",
   "id": "36575a7e",
   "metadata": {},
   "source": [
    "#### 4. Absorption laws\n",
    "\n",
    "Read about the Absorption laws for boolean algebra. Describe in the box below what the is the Absorption law."
   ]
  },
  {
   "cell_type": "markdown",
   "id": "3339006e",
   "metadata": {},
   "source": [
    "_*** Enables a reduction in a complicated expression to a simpler one by absorbing like terms. Ex -> A + (A.B) = A(1 + B) = A"
   ]
  },
  {
   "cell_type": "markdown",
   "id": "9f6e4aad",
   "metadata": {},
   "source": [
    "Find a pair of functions which are connected by the Absorption laws."
   ]
  },
  {
   "cell_type": "code",
   "execution_count": 22,
   "id": "6c6c3911",
   "metadata": {},
   "outputs": [
    {
     "name": "stdout",
     "output_type": "stream",
     "text": [
      "*** absorption_a matches\n",
      "*** absorption_o matches\n"
     ]
    }
   ],
   "source": [
    "absorption_a = (2,11)\n",
    "absorption_o = (3,12)\n",
    "\n",
    "if quick_test(fcts,absorption_a[0],absorption_a[1], verbose=False):\n",
    "    print('*** absorption_a matches')\n",
    "      \n",
    "if quick_test(fcts,absorption_o[0],absorption_o[1], verbose=False):\n",
    "    print('*** absorption_o matches')\n"
   ]
  },
  {
   "cell_type": "markdown",
   "id": "0c28f221",
   "metadata": {},
   "source": [
    "### Exercises B: Creating functions\n",
    "\n",
    "In this section you will create three functions, each on three inputs.\n",
    "\n",
    "1. The first function is true exactly when an odd number of inputs are true. This is called the exclusive-or function.\n",
    "\n",
    "1. The second is true exactly when two or three of the inputs are true. This is called the majority-true function.\n",
    "\n",
    "1. The third is true exactly when the inputs are True, False, True. This is called the special-match function.\n",
    "\n"
   ]
  },
  {
   "cell_type": "code",
   "execution_count": 24,
   "id": "05b17619",
   "metadata": {},
   "outputs": [
    {
     "name": "stdout",
     "output_type": "stream",
     "text": [
      "*** exclusive-or matches\n",
      "*** special-match matches\n",
      "*** majority-true matches\n"
     ]
    }
   ],
   "source": [
    "# replace true with a formula JUST USING and, or and not.\n",
    "\n",
    "exclusive_or = (3, lambda x,y,z: (x and not y and not z) or (x and y and z) \n",
    "                or (not x and y and not z) or (not x and not y and z))\n",
    "majority_true = (3, lambda x,y,z: (x and y and not z) or (x and not y and z) \n",
    "                 or (not x and y and z) or (x and y and z))\n",
    "special_match = (3, lambda x,y,z: (x and not y and z))\n",
    "\n",
    "\n",
    "\n",
    "# cheating ways to do this - but you can use these for testing\n",
    "\n",
    "exclusive_or_cheat = (3, lambda x,y,z: x^y^z)\n",
    "majority_true_cheat = (3, lambda x,y,z: (x+y+z)>1)\n",
    "special_match_cheat = (3, lambda x,y,z: (x,y,z)==(True,False,True))\n",
    "\n",
    "p1t = ProjOneTest()\n",
    "\n",
    "if p1t.check_all(exclusive_or,exclusive_or_cheat, verbose=False):\n",
    "    print('*** exclusive-or matches')\n",
    "\n",
    "if p1t.check_all(special_match,special_match_cheat, verbose=False):\n",
    "    print('*** special-match matches')\n",
    "\n",
    "if p1t.check_all(majority_true,majority_true_cheat, verbose=False):\n",
    "    print('*** majority-true matches')"
   ]
  },
  {
   "cell_type": "markdown",
   "id": "e45fa4b4",
   "metadata": {},
   "source": [
    "### References:\n",
    "\n",
    "- _Symbolic Logic and the Game of Logic_, Lewis Carroll\n",
    "- _Logic Machines and Diagrams_, Martin Gardner\n",
    "- _An Investigation of the Laws of Thought_, George Boole\n",
    "- _Native Set Theory_, Paul Halmos\n",
    "- _Laws of Form_, G. Spencer Brown\n"
   ]
  },
  {
   "cell_type": "code",
   "execution_count": 26,
   "id": "1f8f60c4",
   "metadata": {},
   "outputs": [],
   "source": [
    "# end"
   ]
  }
 ],
 "metadata": {
  "kernelspec": {
   "display_name": "Python [conda env:base] *",
   "language": "python",
   "name": "conda-base-py"
  },
  "language_info": {
   "codemirror_mode": {
    "name": "ipython",
    "version": 3
   },
   "file_extension": ".py",
   "mimetype": "text/x-python",
   "name": "python",
   "nbconvert_exporter": "python",
   "pygments_lexer": "ipython3",
   "version": "3.12.7"
  }
 },
 "nbformat": 4,
 "nbformat_minor": 5
}
